{
 "cells": [
  {
   "cell_type": "markdown",
   "id": "ffe94efe",
   "metadata": {},
   "source": [
    "# Analyse des Dossiers de Patients Atteints de Cancer\n",
    "\n",
    "Ce notebook contient une analyse complète des dossiers de patients atteints de cancer, incluant :\n",
    "- Chargement des données\n",
    "- Prétraitement et nettoyage des données\n",
    "- Vectorisation TF-IDF\n",
    "- Entraînement d'un modèle Random Forest\n",
    "- Évaluation du modèle\n",
    "- Visualisations des résultats"
   ]
  },
  {
   "cell_type": "code",
   "execution_count": null,
   "id": "d2e1ac7c",
   "metadata": {},
   "outputs": [],
   "source": [
    "# Installation des packages nécessaires\n",
    "%pip install pandas numpy scikit-learn matplotlib seaborn\n",
    "\n",
    "# Import des bibliothèques nécessaires\n",
    "import pandas as pd\n",
    "import numpy as np\n",
    "import re\n",
    "from sklearn.model_selection import train_test_split\n",
    "from sklearn.feature_extraction.text import TfidfVectorizer\n",
    "from sklearn.ensemble import RandomForestClassifier\n",
    "from sklearn.metrics import accuracy_score, precision_score, recall_score, f1_score, confusion_matrix\n",
    "import matplotlib.pyplot as plt\n",
    "import seaborn as sns\n",
    "\n",
    "# Pour afficher les graphiques dans le notebook\n",
    "%matplotlib inline"
   ]
  },
  {
   "cell_type": "code",
   "execution_count": null,
   "id": "69c777e0",
   "metadata": {},
   "outputs": [],
   "source": [
    "# Import des bibliothèques nécessaires\n",
    "import pandas as pd\n",
    "import numpy as np\n",
    "import re\n",
    "from sklearn.model_selection import train_test_split\n",
    "from sklearn.feature_extraction.text import TfidfVectorizer\n",
    "from sklearn.ensemble import RandomForestClassifier\n",
    "from sklearn.metrics import accuracy_score, precision_score, recall_score, f1_score, confusion_matrix\n",
    "import matplotlib.pyplot as plt\n",
    "import seaborn as sns\n",
    "\n",
    "# Pour afficher les graphiques dans le notebook\n",
    "%matplotlib inline"
   ]
  },
  {
   "cell_type": "markdown",
   "id": "b7484dbc",
   "metadata": {},
   "source": [
    "**Important** : Après l'installation des packages :\n",
    "1. Redémarrez le kernel du notebook (Menu Kernel -> Restart)\n",
    "2. Puis réexécutez toutes les cellules dans l'ordre"
   ]
  },
  {
   "cell_type": "code",
   "execution_count": null,
   "id": "cc0b73f3",
   "metadata": {},
   "outputs": [],
   "source": [
    "# Chargement des données depuis le fichier local\n",
    "df = pd.read_csv('china_cancer_patients_synthetic.csv')\n",
    "\n",
    "# Affichage des premières lignes et informations sur le dataset\n",
    "print(\"\\nAperçu des données :\")\n",
    "print(df.head())\n",
    "print(\"\\nInformations sur le dataset :\")\n",
    "print(df.info())"
   ]
  },
  {
   "cell_type": "code",
   "execution_count": null,
   "id": "d830f5bb",
   "metadata": {},
   "outputs": [],
   "source": [
    "# Nettoyage des données\n",
    "def clean_text(text):\n",
    "    if isinstance(text, str):\n",
    "        # Conversion en minuscules\n",
    "        text = text.lower()\n",
    "        # Suppression des caractères spéciaux\n",
    "        text = re.sub(r'[^\\w\\s]', '', text)\n",
    "        # Suppression des espaces multiples\n",
    "        text = re.sub(r'\\s+', ' ', text).strip()\n",
    "        return text\n",
    "    return ''\n",
    "\n",
    "# Application du nettoyage aux colonnes textuelles\n",
    "# Note: Ajustez les noms des colonnes en fonction de votre dataset\n",
    "text_columns = ['description']  # Modifiez selon vos colonnes\n",
    "for col in text_columns:\n",
    "    if col in df.columns:\n",
    "        df[f'{col}_clean'] = df[col].apply(clean_text)\n",
    "\n",
    "# Prétraitement des données\n",
    "\n",
    "# Traitement des valeurs manquantes\n",
    "print(\"Valeurs manquantes par colonne :\")\n",
    "print(df.isnull().sum())\n",
    "\n",
    "# Remplacement des valeurs manquantes\n",
    "df['AlcoholUse'] = df['AlcoholUse'].fillna('Unknown')\n",
    "df['GeneticMutation'] = df['GeneticMutation'].fillna('None')\n",
    "df['Comorbidities'] = df['Comorbidities'].fillna('None')\n",
    "\n",
    "# Encodage des variables catégorielles\n",
    "cat_columns = ['Gender', 'Province', 'Ethnicity', 'TumorType', 'CancerStage', \n",
    "               'Metastasis', 'TreatmentType', 'SmokingStatus', 'AlcoholUse', \n",
    "               'GeneticMutation']\n",
    "\n",
    "# Utilisation de get_dummies pour l'encodage one-hot\n",
    "df_encoded = pd.get_dummies(df[cat_columns])\n",
    "\n",
    "# Ajout des colonnes numériques\n",
    "num_columns = ['Age', 'TumorSize', 'ChemotherapySessions', 'RadiationSessions', 'FollowUpMonths']\n",
    "df_final = pd.concat([df_encoded, df[num_columns]], axis=1)\n",
    "\n",
    "print(\"\\nDimensions des données après prétraitement:\", df_final.shape)"
   ]
  },
  {
   "cell_type": "code",
   "execution_count": null,
   "id": "3f272f06",
   "metadata": {},
   "outputs": [],
   "source": [
    "# Préparation des données pour le modèle\n",
    "X = df_final  # Toutes les colonnes encodées\n",
    "y = (df['SurvivalStatus'] == 'Deceased').astype(int)  # 1 pour 'Deceased', 0 pour 'Alive'\n",
    "\n",
    "# Division en ensembles d'entraînement et de test\n",
    "X_train, X_test, y_train, y_test = train_test_split(X, y, test_size=0.2, random_state=42)\n",
    "\n",
    "print(\"Dimensions des données d'entraînement:\", X_train.shape)\n",
    "print(\"Dimensions des données de test:\", X_test.shape)\n",
    "print(\"\\nDistribution de la cible:\")\n",
    "print(y.value_counts(normalize=True))\n",
    "\n",
    "# Préparation des données pour le modèle\n",
    "X = df_final  # Toutes les colonnes encodées\n",
    "y = (df['SurvivalStatus'] == 'Deceased').astype(int)  # 1 pour 'Deceased', 0 pour 'Alive'\n",
    "\n",
    "# Division en ensembles d'entraînement et de test\n",
    "X_train, X_test, y_train, y_test = train_test_split(X, y, test_size=0.2, random_state=42)\n",
    "\n",
    "print(\"Dimensions des données d'entraînement:\", X_train.shape)\n",
    "print(\"Dimensions des données de test:\", X_test.shape)"
   ]
  },
  {
   "cell_type": "code",
   "execution_count": null,
   "id": "a29744cd",
   "metadata": {},
   "outputs": [],
   "source": [
    "# Création et entraînement du modèle Random Forest\n",
    "rf_model = RandomForestClassifier(n_estimators=100, random_state=42)\n",
    "rf_model.fit(X_train, y_train)\n",
    "\n",
    "# Prédictions sur l'ensemble de test\n",
    "y_pred = rf_model.predict(X_test)"
   ]
  },
  {
   "cell_type": "code",
   "execution_count": null,
   "id": "fd51ed1f",
   "metadata": {},
   "outputs": [],
   "source": [
    "# Calcul des métriques d'évaluation\n",
    "accuracy = accuracy_score(y_test, y_pred)\n",
    "precision = precision_score(y_test, y_pred, average='weighted')\n",
    "recall = recall_score(y_test, y_pred, average='weighted')\n",
    "f1 = f1_score(y_test, y_pred, average='weighted')\n",
    "\n",
    "print(\"Métriques d'évaluation :\")\n",
    "print(f\"Accuracy: {accuracy:.3f}\")\n",
    "print(f\"Precision: {precision:.3f}\")\n",
    "print(f\"Recall: {recall:.3f}\")\n",
    "print(f\"F1-score: {f1:.3f}\")"
   ]
  },
  {
   "cell_type": "code",
   "execution_count": null,
   "id": "5cbcec87",
   "metadata": {},
   "outputs": [],
   "source": [
    "# Matrice de confusion\n",
    "plt.figure(figsize=(10, 8))\n",
    "cm = confusion_matrix(y_test, y_pred)\n",
    "sns.heatmap(cm, annot=True, fmt='d', cmap='Blues')\n",
    "plt.title('Matrice de Confusion')\n",
    "plt.xlabel('Prédictions (0: Vivant, 1: Décédé)')\n",
    "plt.ylabel('Valeurs Réelles (0: Vivant, 1: Décédé)')\n",
    "plt.show()\n",
    "\n",
    "# Importance des caractéristiques\n",
    "feature_importance = pd.DataFrame({\n",
    "    'feature': X_train.columns,\n",
    "    'importance': rf_model.feature_importances_\n",
    "})\n",
    "\n",
    "# Affichage des 20 caractéristiques les plus importantes\n",
    "plt.figure(figsize=(12, 8))\n",
    "top_features = feature_importance.nlargest(20, 'importance')\n",
    "sns.barplot(data=top_features, x='importance', y='feature')\n",
    "plt.title('Top 20 des Caractéristiques les Plus Importantes')\n",
    "plt.xlabel('Importance')\n",
    "plt.ylabel('Caractéristique')\n",
    "plt.tight_layout()\n",
    "plt.show()"
   ]
  }
 ],
 "metadata": {
  "kernelspec": {
   "display_name": "Python 3",
   "language": "python",
   "name": "python3"
  },
  "language_info": {
   "codemirror_mode": {
    "name": "ipython",
    "version": 3
   },
   "file_extension": ".py",
   "mimetype": "text/x-python",
   "name": "python",
   "nbconvert_exporter": "python",
   "pygments_lexer": "ipython3",
   "version": "3.12.0"
  }
 },
 "nbformat": 4,
 "nbformat_minor": 5
}
